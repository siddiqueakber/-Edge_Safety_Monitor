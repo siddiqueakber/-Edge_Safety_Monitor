{
  "cells": [
    {
      "cell_type": "markdown",
      "metadata": {},
      "source": [
        "# Edge Safety Monitor - Data Exploration\n",
        "\n",
        "This notebook helps you explore your datasets and test YOLOv8 models.\n"
      ]
    },
    {
      "cell_type": "code",
      "execution_count": null,
      "metadata": {},
      "outputs": [],
      "source": [
        "# Import libraries\n",
        "import sys\n",
        "from pathlib import Path\n",
        "\n",
        "# Add project root to path\n",
        "PROJECT_ROOT = Path('.').absolute().parent\n",
        "sys.path.insert(0, str(PROJECT_ROOT))\n",
        "\n",
        "import cv2\n",
        "import numpy as np\n",
        "import matplotlib.pyplot as plt\n",
        "from ultralytics import YOLO\n",
        "\n",
        "print(\"✓ Imports successful!\")\n"
      ]
    },
    {
      "cell_type": "markdown",
      "metadata": {},
      "source": [
        "## Load YOLOv8 Model\n"
      ]
    },
    {
      "cell_type": "code",
      "execution_count": null,
      "metadata": {},
      "outputs": [],
      "source": [
        "# Load pre-trained YOLOv8 model\n",
        "model = YOLO('yolov8n.pt')\n",
        "print(\"✓ Model loaded!\")\n",
        "print(f\"Classes: {len(model.names)}\")\n"
      ]
    }
  ],
  "metadata": {
    "language_info": {
      "name": "python"
    }
  },
  "nbformat": 4,
  "nbformat_minor": 2
}
